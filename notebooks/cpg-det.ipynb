{
  "cells": [
    {
      "cell_type": "markdown",
      "metadata": {
        "id": "G4T6QHHOnfcQ"
      },
      "source": [
        "# Part 1: Build CpG Detector\n",
        "\n",
        "Here we have a simple problem, given a DNA sequence (of N, A, C, G, T), count the number of CpGs in the sequence (consecutive CGs).\n",
        "\n",
        "We have defined a few helper functions / parameters for performing this task.\n",
        "\n",
        "We need you to build a LSTM model and train it to complish this task in PyTorch.\n",
        "\n",
        "A good solution will be a model that can be trained, with high confidence in correctness."
      ]
    },
    {
      "cell_type": "code",
      "execution_count": 36,
      "metadata": {
        "id": "mfS4cLmZD2oB"
      },
      "outputs": [],
      "source": [
        "from typing import Sequence\n",
        "from functools import partial\n",
        "import random\n",
        "import torch\n",
        "import numpy as np\n",
        "import random\n",
        "from torch.utils.data import DataLoader\n",
        "from torch.utils.data import TensorDataset\n",
        "import matplotlib.pyplot as plt"
      ]
    },
    {
      "cell_type": "code",
      "execution_count": 37,
      "metadata": {
        "id": "_f-brPAvKvTn"
      },
      "outputs": [],
      "source": [
        "# DO NOT CHANGE HERE\n",
        "def set_seed(seed=13):\n",
        "    random.seed(seed)\n",
        "    np.random.seed(seed)\n",
        "    torch.manual_seed(seed)\n",
        "    if torch.cuda.is_available():\n",
        "        torch.cuda.manual_seed_all(seed)\n",
        "\n",
        "set_seed(13)\n",
        "\n",
        "# Use this for getting x label\n",
        "def rand_sequence(n_seqs: int, seq_len: int=128) -> Sequence[int]:\n",
        "    for i in range(n_seqs):\n",
        "      yield [random.randint(0, 4) for _ in range(seq_len)]\n",
        "\n",
        "# Use this for getting y label\n",
        "def count_cpgs(seq: str) -> int:\n",
        "    cgs = 0\n",
        "    for i in range(0, len(seq) - 1):\n",
        "        dimer = seq[i:i+2]\n",
        "        # note that seq is a string, not a list\n",
        "        if dimer == \"CG\":\n",
        "            cgs += 1\n",
        "    return cgs\n",
        "\n",
        "# Alphabet helpers\n",
        "alphabet = 'NACGT'\n",
        "dna2int = { a: i for a, i in zip(alphabet, range(5))}\n",
        "int2dna = { i: a for a, i in zip(alphabet, range(5))}\n",
        "\n",
        "intseq_to_dnaseq = partial(map, int2dna.get)\n",
        "dnaseq_to_intseq = partial(map, dna2int.get)"
      ]
    },
    {
      "cell_type": "code",
      "execution_count": 38,
      "metadata": {
        "id": "VK9Qg5GHYxOb"
      },
      "outputs": [],
      "source": [
        "# we prepared two datasets for training and evaluation\n",
        "# training data scale we set to 2048\n",
        "# we test on 512\n",
        "\n",
        "def prepare_data(num_samples=100):\n",
        "    # prepared the training and test data\n",
        "    # you need to call rand_sequence and count_cpgs here to create the dataset\n",
        "    # step 1\n",
        "    X_dna_seqs_train = list(rand_sequence(num_samples))\n",
        "    \"\"\"\n",
        "    hint:\n",
        "        1. You can check X_dna_seqs_train by print, the data is ids which is your training X\n",
        "        2. You first convert ids back to DNA sequence\n",
        "        3. Then you run count_cpgs which will yield CGs counts - this will be the labels (Y)\n",
        "    \"\"\"\n",
        "    #step2\n",
        "    # use intseq_to_dnaseq here to convert ids back to DNA seqs\n",
        "    temp = [list(intseq_to_dnaseq(x)) for x in X_dna_seqs_train]\n",
        "\n",
        "    #step3\n",
        "    # use count_cpgs here to generate labels with temp generated in step2\n",
        "    y_dna_seqs = [ count_cpgs(seq) for seq in list(map(''.join, temp)) ]\n",
        "\n",
        "    return X_dna_seqs_train, y_dna_seqs\n",
        "\n",
        "train_x, train_y = prepare_data(2048)\n",
        "test_x, test_y = prepare_data(512)\n",
        "\n",
        "# Convert data to PyTorch tensors\n",
        "train_x = torch.tensor(train_x)\n",
        "train_y = torch.tensor(train_y)\n",
        "test_x = torch.tensor(test_x)\n",
        "test_y = torch.tensor(test_y)"
      ]
    },
    {
      "cell_type": "code",
      "execution_count": 40,
      "metadata": {
        "id": "CVrbELdTzVNs"
      },
      "outputs": [],
      "source": [
        "# some config\n",
        "LSTM_HIDDEN = 256\n",
        "LSTM_LAYER = 2\n",
        "batch_size = 64\n",
        "learning_rate = 0.001\n",
        "epoch_num = 50\n",
        "input_size = 128\n",
        "output_size = 1"
      ]
    },
    {
      "cell_type": "code",
      "source": [
        "train_data_loader = DataLoader(TensorDataset(train_x, train_y), batch_size=batch_size)\n",
        "test_data_loader = DataLoader(TensorDataset(test_x, test_y), batch_size=batch_size)"
      ],
      "metadata": {
        "id": "VXcc_He-8CV4"
      },
      "execution_count": 41,
      "outputs": []
    },
    {
      "cell_type": "code",
      "execution_count": 42,
      "metadata": {
        "id": "q8fgxrM0LnLy"
      },
      "outputs": [],
      "source": [
        "# Model\n",
        "class CpGPredictor(torch.nn.Module):\n",
        "    ''' Simple model that uses a LSTM to count the number of CpGs in a sequence '''\n",
        "    def __init__(self, input_size, hidden_size, num_layers, output_size):\n",
        "        super(CpGPredictor, self).__init__()\n",
        "        # We do need a lstm and a classifier layer here but you are free to implement them in your way\n",
        "        self.hidden_size = hidden_size\n",
        "        self.num_layers = num_layers\n",
        "        self.embedding = torch.nn.Embedding(5, input_size)\n",
        "        self.lstm = torch.nn.LSTM(input_size, hidden_size, num_layers, batch_first=True)\n",
        "        self.fc = torch.nn.Linear(hidden_size, output_size)\n",
        "\n",
        "    def forward(self, x):\n",
        "        x = self.embedding(x)\n",
        "        h0 = torch.zeros(self.num_layers, x.size(0), self.hidden_size).to(x.device)\n",
        "        c0 = torch.zeros(self.num_layers, x.size(0), self.hidden_size).to(x.device)\n",
        "        out, _ = self.lstm(x, (h0, c0))\n",
        "        out = self.fc(out[:, -1, :])\n",
        "        return out"
      ]
    },
    {
      "cell_type": "code",
      "execution_count": 43,
      "metadata": {
        "id": "dE47Vg1PzVNt"
      },
      "outputs": [],
      "source": [
        "# init model / loss function / optimizer etc.\n",
        "model = CpGPredictor(input_size, LSTM_HIDDEN, LSTM_LAYER, output_size)\n",
        "loss_fn = torch.nn.MSELoss()\n",
        "optimizer = torch.optim.Adam(model.parameters(), lr=learning_rate)"
      ]
    },
    {
      "cell_type": "code",
      "execution_count": 44,
      "metadata": {
        "id": "POepJ16zzVNu",
        "colab": {
          "base_uri": "https://localhost:8080/"
        },
        "outputId": "dfe8c6f4-5177-421e-92e7-860188318c2f"
      },
      "outputs": [
        {
          "output_type": "stream",
          "name": "stdout",
          "text": [
            "Epoch 1/50, Loss: 7.462931878864765\n",
            "Epoch 2/50, Loss: 4.225964397192001\n",
            "Epoch 3/50, Loss: 4.214828751981258\n",
            "Epoch 4/50, Loss: 4.209637276828289\n",
            "Epoch 5/50, Loss: 4.165155239403248\n",
            "Epoch 6/50, Loss: 4.117880247533321\n",
            "Epoch 7/50, Loss: 3.636242054402828\n",
            "Epoch 8/50, Loss: 1.6474030893296003\n",
            "Epoch 9/50, Loss: 1.0279928967356682\n",
            "Epoch 10/50, Loss: 0.49530175793915987\n",
            "Epoch 11/50, Loss: 0.3055695779621601\n",
            "Epoch 12/50, Loss: 0.17171390331350267\n",
            "Epoch 13/50, Loss: 0.10172954644076526\n",
            "Epoch 14/50, Loss: 0.0704089532373473\n",
            "Epoch 15/50, Loss: 0.05893138510873541\n",
            "Epoch 16/50, Loss: 0.051715026318561286\n",
            "Epoch 17/50, Loss: 0.042798469541594386\n",
            "Epoch 18/50, Loss: 0.03170522241271101\n",
            "Epoch 19/50, Loss: 0.030158299021422863\n",
            "Epoch 20/50, Loss: 0.019791809638263658\n",
            "Epoch 21/50, Loss: 0.0228707153146388\n",
            "Epoch 22/50, Loss: 0.02527677550096996\n",
            "Epoch 23/50, Loss: 0.06177614338230342\n",
            "Epoch 24/50, Loss: 0.07996544876368716\n",
            "Epoch 25/50, Loss: 0.040764453704468906\n",
            "Epoch 26/50, Loss: 0.04069132375298068\n",
            "Epoch 27/50, Loss: 0.035496870084898546\n",
            "Epoch 28/50, Loss: 0.03875148404040374\n",
            "Epoch 29/50, Loss: 0.04227669787360355\n",
            "Epoch 30/50, Loss: 0.039877072878880426\n",
            "Epoch 31/50, Loss: 0.032333078648662195\n",
            "Epoch 32/50, Loss: 0.030334472976392135\n",
            "Epoch 33/50, Loss: 0.02184127055807039\n",
            "Epoch 34/50, Loss: 0.014476713869953528\n",
            "Epoch 35/50, Loss: 0.010999642850947566\n",
            "Epoch 36/50, Loss: 0.01045444214832969\n",
            "Epoch 37/50, Loss: 0.009996133143431507\n",
            "Epoch 38/50, Loss: 0.008716103999176994\n",
            "Epoch 39/50, Loss: 0.008440071775112301\n",
            "Epoch 40/50, Loss: 0.008708118431968614\n",
            "Epoch 41/50, Loss: 0.008511292224284261\n",
            "Epoch 42/50, Loss: 0.008253706328105181\n",
            "Epoch 43/50, Loss: 0.009350170294055715\n",
            "Epoch 44/50, Loss: 0.023411639165715314\n",
            "Epoch 45/50, Loss: 0.015869291150011122\n",
            "Epoch 46/50, Loss: 0.009802216351090465\n",
            "Epoch 47/50, Loss: 0.010489864100236446\n",
            "Epoch 48/50, Loss: 0.006966711705899797\n",
            "Epoch 49/50, Loss: 0.007621814220328815\n",
            "Epoch 50/50, Loss: 0.010765082719444763\n"
          ]
        }
      ],
      "source": [
        "# training (you can modify the code below)\n",
        "graph_losses = []\n",
        "for epoch in range(epoch_num):\n",
        "    model.train()\n",
        "    total_loss = 0\n",
        "    for batch_x, batch_y in train_data_loader:\n",
        "        optimizer.zero_grad()\n",
        "        outputs = model(batch_x)\n",
        "        loss = loss_fn(outputs, batch_y.float().unsqueeze(1))\n",
        "        loss.backward()\n",
        "        optimizer.step()\n",
        "        total_loss += loss.item()\n",
        "    epoch_loss = total_loss / len(train_data_loader)\n",
        "    graph_losses.append(epoch_loss)\n",
        "    print(f\"Epoch {epoch+1}/{epoch_num}, Loss: {epoch_loss}\")"
      ]
    },
    {
      "cell_type": "code",
      "source": [
        "# Plot the loss graph\n",
        "plt.plot(range(1, epoch_num + 1), graph_losses, label='Training Loss')\n",
        "plt.xlabel('Epoch')\n",
        "plt.ylabel('Loss')\n",
        "plt.title('Training Loss Over Epochs')\n",
        "plt.legend()\n",
        "plt.grid(True)\n",
        "plt.show()"
      ],
      "metadata": {
        "colab": {
          "base_uri": "https://localhost:8080/",
          "height": 472
        },
        "id": "N26SrgJmu59Y",
        "outputId": "ae7eaa31-9c88-4aeb-c3f0-70b443ec218f"
      },
      "execution_count": 45,
      "outputs": [
        {
          "output_type": "display_data",
          "data": {
            "text/plain": [
              "<Figure size 640x480 with 1 Axes>"
            ],
            "image/png": "[encoded data removed]"
          },
          "metadata": {}
        }
      ]
    },
    {
      "cell_type": "code",
      "execution_count": 46,
      "metadata": {
        "id": "vRCc2R5hzVNu",
        "colab": {
          "base_uri": "https://localhost:8080/"
        },
        "outputId": "818700f0-f484-422a-c11d-e3c21c866e09"
      },
      "outputs": [
        {
          "output_type": "stream",
          "name": "stdout",
          "text": [
            "Test Loss: 0.19586889073252678\n"
          ]
        }
      ],
      "source": [
        "# Evaluation\n",
        "model.eval()\n",
        "total_loss = 0\n",
        "with torch.no_grad():\n",
        "    for batch_x, batch_y in test_data_loader:\n",
        "        outputs = model(batch_x)\n",
        "        loss = loss_fn(outputs, batch_y.float().unsqueeze(1))\n",
        "        total_loss += loss.item()\n",
        "\n",
        "print(f\"Test Loss: {total_loss}\")"
      ]
    },
    {
      "cell_type": "code",
      "source": [
        "# Compute accuracy on new set of test samples by running predictions\n",
        "N = 100\n",
        "test_x, test_y = prepare_data(N)\n",
        "\n",
        "# Convert data to PyTorch tensors\n",
        "test_x = torch.tensor(test_x)\n",
        "test_y = torch.tensor(test_y)\n",
        "\n",
        "# Run predictions for each sequence and compute overall accuracy\n",
        "correct_predictions = 0\n",
        "for sequence, y in zip(test_x, test_y):\n",
        "    # Perform inference\n",
        "    with torch.no_grad():\n",
        "        output = model(sequence.unsqueeze(0))\n",
        "    # Convert output to CpG count\n",
        "    predicted_cpg_count = output.item()\n",
        "    # Check if prediction is within a tolerance of 0.5\n",
        "    if abs(predicted_cpg_count - (y.float().unsqueeze(0))) <= 0.3:\n",
        "        correct_predictions += 1\n",
        "\n",
        "# Compute overall accuracy\n",
        "accuracy = correct_predictions / N\n",
        "print(\"Overall Accuracy:\", accuracy)"
      ],
      "metadata": {
        "colab": {
          "base_uri": "https://localhost:8080/"
        },
        "id": "1ttd6E0u92rV",
        "outputId": "76a5b7b5-a612-4599-b421-37bce9279cc3"
      },
      "execution_count": 48,
      "outputs": [
        {
          "output_type": "stream",
          "name": "stdout",
          "text": [
            "Overall Accuracy: 1.0\n"
          ]
        }
      ]
    },
    {
      "cell_type": "code",
      "source": [
        "torch.save(model.state_dict(), \"model.pth\")"
      ],
      "metadata": {
        "id": "0s3X10g7JL2t"
      },
      "execution_count": 49,
      "outputs": []
    },
    {
      "cell_type": "code",
      "source": [
        "import random\n",
        "\n",
        "# Define the list of characters\n",
        "nucleotides = ['N', 'A', 'C', 'G', 'T']\n",
        "\n",
        "# Generate a random sequence of 128 characters\n",
        "random_sequence = ''.join(random.choice(nucleotides) for _ in range(128))\n",
        "\n",
        "print(random_sequence)\n",
        "print(count_cpgs(random_sequence))"
      ],
      "metadata": {
        "colab": {
          "base_uri": "https://localhost:8080/"
        },
        "id": "kZznIdMgioZi",
        "outputId": "a99e879e-7cff-42d8-a4b2-cba9ec35d55b"
      },
      "execution_count": 56,
      "outputs": [
        {
          "output_type": "stream",
          "name": "stdout",
          "text": [
            "NGCCTCGAGCNTCCACGACCCAACNGNAGNACGNTCGCGGTCCAGNTACATNCANNACNTCACTNACTCGCNNAGCCGACGTACGTCAGGGGTCNGNANTGNCNNTGGCNCNCNTNACNTCCTTNTGA\n",
            "9\n"
          ]
        }
      ]
    },
    {
      "cell_type": "markdown",
      "metadata": {
        "id": "TMrRf_aVDRJm"
      },
      "source": [
        "# Part 2: what if the DNA sequences are not the same length"
      ]
    },
    {
      "cell_type": "code",
      "execution_count": 2,
      "metadata": {
        "id": "rPsYSNh6zVNv"
      },
      "outputs": [],
      "source": [
        "# hint we will need following imports\n",
        "from torch.nn.utils.rnn import pad_sequence, pack_padded_sequence, pad_packed_sequence"
      ]
    },
    {
      "cell_type": "code",
      "execution_count": 3,
      "metadata": {
        "id": "AKvG-MNuXJr9"
      },
      "outputs": [],
      "source": [
        "# DO NOT CHANGE HERE\n",
        "random.seed(13)\n",
        "\n",
        "# Use this for getting x label\n",
        "def rand_sequence_var_len(n_seqs: int, lb: int=16, ub: int=128) -> Sequence[int]:\n",
        "    for i in range(n_seqs):\n",
        "        seq_len = random.randint(lb, ub)\n",
        "        yield [random.randint(1, 5) for _ in range(seq_len)]\n",
        "\n",
        "\n",
        "# Use this for getting y label\n",
        "def count_cpgs(seq: str) -> int:\n",
        "    cgs = 0\n",
        "    for i in range(0, len(seq) - 1):\n",
        "        dimer = seq[i:i+2]\n",
        "        # note that seq is a string, not a list\n",
        "        if dimer == \"CG\":\n",
        "            cgs += 1\n",
        "    return cgs\n",
        "\n",
        "\n",
        "# Alphabet helpers\n",
        "alphabet = 'NACGT'\n",
        "dna2int = {a: i for a, i in zip(alphabet, range(1, 6))}\n",
        "int2dna = {i: a for a, i in zip(alphabet, range(1, 6))}\n",
        "dna2int.update({\"pad\": 0})\n",
        "int2dna.update({0: \"<pad>\"})\n",
        "\n",
        "intseq_to_dnaseq = partial(map, int2dna.get)\n",
        "dnaseq_to_intseq = partial(map, dna2int.get)"
      ]
    },
    {
      "cell_type": "code",
      "execution_count": 4,
      "metadata": {
        "id": "a5njyU-ZzVNv"
      },
      "outputs": [],
      "source": [
        "# TODO complete the task based on the change\n",
        "def prepare_data(num_samples=100, min_len=16, max_len=128):\n",
        "    # TODO prepared the training and test data\n",
        "    # you need to call rand_sequence and count_cpgs here to create the dataset\n",
        "    #step 1\n",
        "    X_dna_seqs_train = list(rand_sequence_var_len(num_samples, min_len, max_len))\n",
        "    #step2\n",
        "    # use intseq_to_dnaseq here to convert ids back to DNA seqs\n",
        "    temp = [list(intseq_to_dnaseq(x)) for x in X_dna_seqs_train]\n",
        "\n",
        "    #step3\n",
        "    # use count_cpgs here to generate labels with temp generated in step2\n",
        "    y_dna_seqs = [ count_cpgs(seq) for seq in list(map(''.join, temp)) ]\n",
        "\n",
        "    return X_dna_seqs_train, y_dna_seqs\n",
        "\n",
        "\n",
        "min_len, max_len = 64, 128\n",
        "train_x, train_y = prepare_data(2048, min_len, max_len)\n",
        "test_x, test_y = prepare_data(512, min_len, max_len)"
      ]
    },
    {
      "cell_type": "code",
      "execution_count": 5,
      "metadata": {
        "id": "MYdX1XoozVNw"
      },
      "outputs": [],
      "source": [
        "class MyDataset(torch.utils.data.Dataset):\n",
        "    def __init__(self, lists, labels) -> None:\n",
        "        self.lists = lists\n",
        "        self.labels = labels\n",
        "\n",
        "    def __getitem__(self, index):\n",
        "        return torch.LongTensor(self.lists[index]), self.labels[index]\n",
        "\n",
        "    def __len__(self):\n",
        "        return len(self.lists)\n",
        "\n",
        "\n",
        "# this will be a collate_fn for dataloader to pad sequence\n",
        "class PadSequence:\n",
        "    def __init__(self, pad_value=0):\n",
        "        self.pad_value = pad_value\n",
        "\n",
        "    def __call__(self, batch):\n",
        "        max_len = max([len(x[0]) for x in batch])\n",
        "        batch_x = [torch.LongTensor(list(x[0])  + [self.pad_value] * (max_len - len(x[0]))) for x in batch]  # Convert list to tensor\n",
        "        batch_y = [x[1] for x in batch]\n",
        "        return torch.stack(batch_x), torch.LongTensor(batch_y)  # Convert list to tensor"
      ]
    },
    {
      "cell_type": "code",
      "execution_count": 6,
      "metadata": {
        "id": "lrUa27kQzVNw"
      },
      "outputs": [],
      "source": [
        "# some config\n",
        "LSTM_HIDDEN = 256\n",
        "LSTM_LAYER = 2\n",
        "batch_size = 64\n",
        "learning_rate = 0.001\n",
        "epoch_num = 100\n",
        "input_size = 128\n",
        "output_size = 1"
      ]
    },
    {
      "cell_type": "code",
      "source": [
        "# create data loader\n",
        "train_data_loader = DataLoader(MyDataset(train_x, train_y), batch_size=batch_size, collate_fn=PadSequence())\n",
        "test_data_loader = DataLoader(MyDataset(test_x, test_y), batch_size=batch_size, collate_fn=PadSequence())"
      ],
      "metadata": {
        "id": "avEgytcmtwxR"
      },
      "execution_count": 7,
      "outputs": []
    },
    {
      "cell_type": "code",
      "source": [
        "# Model\n",
        "class CpGPredictor(torch.nn.Module):\n",
        "    ''' Simple model that uses a LSTM to count the number of CpGs in a sequence '''\n",
        "    def __init__(self, input_size, hidden_size, num_layers, output_size):\n",
        "        super(CpGPredictor, self).__init__()\n",
        "        # We do need a lstm and a classifier layer here but you are free to implement them in your way\n",
        "        self.hidden_size = hidden_size\n",
        "        self.num_layers = num_layers\n",
        "        self.embedding = torch.nn.Embedding(6, input_size)\n",
        "        self.lstm = torch.nn.LSTM(input_size, hidden_size, num_layers, batch_first=True)\n",
        "        self.fc = torch.nn.Linear(hidden_size, output_size)\n",
        "\n",
        "    def forward(self, x):\n",
        "        x = self.embedding(x)\n",
        "        h0 = torch.zeros(self.num_layers, x.size(0), self.hidden_size).to(x.device)\n",
        "        c0 = torch.zeros(self.num_layers, x.size(0), self.hidden_size).to(x.device)\n",
        "        out, _ = self.lstm(x, (h0, c0))\n",
        "        out = self.fc(out[:, -1, :])\n",
        "        return out"
      ],
      "metadata": {
        "id": "za2DqMLZuFHn"
      },
      "execution_count": 8,
      "outputs": []
    },
    {
      "cell_type": "code",
      "source": [
        "# init model / loss function / optimizer etc.\n",
        "model = CpGPredictor(input_size, LSTM_HIDDEN, LSTM_LAYER, output_size)\n",
        "loss_fn = torch.nn.MSELoss()\n",
        "optimizer = torch.optim.Adam(model.parameters(), lr=learning_rate)"
      ],
      "metadata": {
        "id": "INW5Lombu0S4"
      },
      "execution_count": 9,
      "outputs": []
    },
    {
      "cell_type": "code",
      "source": [
        "# training (you can modify the code below)\n",
        "graph_losses = []\n",
        "for epoch in range(epoch_num):\n",
        "    model.train()\n",
        "    total_loss = 0\n",
        "    for batch_x, batch_y in train_data_loader:\n",
        "        optimizer.zero_grad()\n",
        "        outputs = model(batch_x)\n",
        "        loss = loss_fn(outputs, batch_y.float().unsqueeze(1))\n",
        "        loss.backward()\n",
        "        optimizer.step()\n",
        "        total_loss += loss.item()\n",
        "    epoch_loss = total_loss / len(train_data_loader)\n",
        "    graph_losses.append(epoch_loss)\n",
        "    print(f\"Epoch {epoch+1}/{epoch_num}, Loss: {epoch_loss}\")"
      ],
      "metadata": {
        "colab": {
          "base_uri": "https://localhost:8080/"
        },
        "id": "NKkk91y2u5F2",
        "outputId": "827adc85-ee69-44f3-82fa-21704b70244c"
      },
      "execution_count": 10,
      "outputs": [
        {
          "output_type": "stream",
          "name": "stdout",
          "text": [
            "Epoch 1/100, Loss: 5.203831508755684\n",
            "Epoch 2/100, Loss: 3.5823613852262497\n",
            "Epoch 3/100, Loss: 3.2035830542445183\n",
            "Epoch 4/100, Loss: 3.080999217927456\n",
            "Epoch 5/100, Loss: 3.001357316970825\n",
            "Epoch 6/100, Loss: 2.899892747402191\n",
            "Epoch 7/100, Loss: 2.2102766148746014\n",
            "Epoch 8/100, Loss: 1.646355040371418\n",
            "Epoch 9/100, Loss: 0.9840515162795782\n",
            "Epoch 10/100, Loss: 0.4077561218291521\n",
            "Epoch 11/100, Loss: 0.25481847021728754\n",
            "Epoch 12/100, Loss: 0.21376240719109774\n",
            "Epoch 13/100, Loss: 0.16722151264548302\n",
            "Epoch 14/100, Loss: 0.1371768608223647\n",
            "Epoch 15/100, Loss: 0.1233770017279312\n",
            "Epoch 16/100, Loss: 0.1489570183912292\n",
            "Epoch 17/100, Loss: 0.10773756785783917\n",
            "Epoch 18/100, Loss: 0.10185330011881888\n",
            "Epoch 19/100, Loss: 0.08107191359158605\n",
            "Epoch 20/100, Loss: 0.06486987159587443\n",
            "Epoch 21/100, Loss: 0.046786657301709056\n",
            "Epoch 22/100, Loss: 0.04567767080152407\n",
            "Epoch 23/100, Loss: 0.03949335851939395\n",
            "Epoch 24/100, Loss: 0.03346832457464188\n",
            "Epoch 25/100, Loss: 0.03093325364170596\n",
            "Epoch 26/100, Loss: 0.031586660334141925\n",
            "Epoch 27/100, Loss: 0.02663611961179413\n",
            "Epoch 28/100, Loss: 0.02521059467107989\n",
            "Epoch 29/100, Loss: 0.023274346604011953\n",
            "Epoch 30/100, Loss: 0.026853293034946546\n",
            "Epoch 31/100, Loss: 0.02679387468378991\n",
            "Epoch 32/100, Loss: 0.027424497820902616\n",
            "Epoch 33/100, Loss: 0.03642130066873506\n",
            "Epoch 34/100, Loss: 0.040714304748689756\n",
            "Epoch 35/100, Loss: 0.05393444269429892\n",
            "Epoch 36/100, Loss: 0.04930557167972438\n",
            "Epoch 37/100, Loss: 0.034592752635944635\n",
            "Epoch 38/100, Loss: 0.03585328967892565\n",
            "Epoch 39/100, Loss: 0.03950938646448776\n",
            "Epoch 40/100, Loss: 0.04117586792563088\n",
            "Epoch 41/100, Loss: 0.05297786579467356\n",
            "Epoch 42/100, Loss: 0.08962383377365768\n",
            "Epoch 43/100, Loss: 0.09555278095649555\n",
            "Epoch 44/100, Loss: 0.04331962179276161\n",
            "Epoch 45/100, Loss: 0.022557837961358018\n",
            "Epoch 46/100, Loss: 0.02363957860507071\n",
            "Epoch 47/100, Loss: 0.021267294156132266\n",
            "Epoch 48/100, Loss: 0.016179717451450415\n",
            "Epoch 49/100, Loss: 0.015749774407595396\n",
            "Epoch 50/100, Loss: 0.014294002918177284\n",
            "Epoch 51/100, Loss: 0.013716995468712412\n",
            "Epoch 52/100, Loss: 0.013156298831745517\n",
            "Epoch 53/100, Loss: 0.012490395129134413\n",
            "Epoch 54/100, Loss: 0.0114573360333452\n",
            "Epoch 55/100, Loss: 0.010245819910778664\n",
            "Epoch 56/100, Loss: 0.009436109059606679\n",
            "Epoch 57/100, Loss: 0.009298315577325411\n",
            "Epoch 58/100, Loss: 0.009903998317895457\n",
            "Epoch 59/100, Loss: 0.01122608628065791\n",
            "Epoch 60/100, Loss: 0.013140959868906066\n",
            "Epoch 61/100, Loss: 0.015316852848627605\n",
            "Epoch 62/100, Loss: 0.016253630674327724\n",
            "Epoch 63/100, Loss: 0.03077780664898455\n",
            "Epoch 64/100, Loss: 0.019402649442781694\n",
            "Epoch 65/100, Loss: 0.021629625247442164\n",
            "Epoch 66/100, Loss: 0.017052668074029498\n",
            "Epoch 67/100, Loss: 0.01677786960499361\n",
            "Epoch 68/100, Loss: 0.015859610139159486\n",
            "Epoch 69/100, Loss: 0.01853144247434102\n",
            "Epoch 70/100, Loss: 0.0230682115216041\n",
            "Epoch 71/100, Loss: 0.024464697518851608\n",
            "Epoch 72/100, Loss: 0.01915101261693053\n",
            "Epoch 73/100, Loss: 0.018328442121855915\n",
            "Epoch 74/100, Loss: 0.022639127884758636\n",
            "Epoch 75/100, Loss: 0.03881590810487978\n",
            "Epoch 76/100, Loss: 0.023471767432056367\n",
            "Epoch 77/100, Loss: 0.02500745077850297\n",
            "Epoch 78/100, Loss: 0.02969540245248936\n",
            "Epoch 79/100, Loss: 0.03262535986141302\n",
            "Epoch 80/100, Loss: 0.034104742197087035\n",
            "Epoch 81/100, Loss: 0.05875803655362688\n",
            "Epoch 82/100, Loss: 0.06589306303067133\n",
            "Epoch 83/100, Loss: 0.13398495852015913\n",
            "Epoch 84/100, Loss: 0.14395786344539374\n",
            "Epoch 85/100, Loss: 0.061885133443865925\n",
            "Epoch 86/100, Loss: 0.021036436286522076\n",
            "Epoch 87/100, Loss: 0.02146916138008237\n",
            "Epoch 88/100, Loss: 0.014614649102441035\n",
            "Epoch 89/100, Loss: 0.014148859103443101\n",
            "Epoch 90/100, Loss: 0.012658606246986892\n",
            "Epoch 91/100, Loss: 0.010742793783720117\n",
            "Epoch 92/100, Loss: 0.010512549022678286\n",
            "Epoch 93/100, Loss: 0.009931409716955386\n",
            "Epoch 94/100, Loss: 0.009420319358468987\n",
            "Epoch 95/100, Loss: 0.00901332121429732\n",
            "Epoch 96/100, Loss: 0.008800339317531325\n",
            "Epoch 97/100, Loss: 0.008597888343501836\n",
            "Epoch 98/100, Loss: 0.008332379882631358\n",
            "Epoch 99/100, Loss: 0.008102796899038367\n",
            "Epoch 100/100, Loss: 0.008053545519942418\n"
          ]
        }
      ]
    },
    {
      "cell_type": "code",
      "source": [
        "# Plot the loss graph\n",
        "plt.plot(range(1, epoch_num + 1), graph_losses, label='Training Loss')\n",
        "plt.xlabel('Epoch')\n",
        "plt.ylabel('Loss')\n",
        "plt.title('Training Loss Over Epochs')\n",
        "plt.legend()\n",
        "plt.grid(True)\n",
        "plt.show()"
      ],
      "metadata": {
        "colab": {
          "base_uri": "https://localhost:8080/",
          "height": 472
        },
        "id": "E-QhWcCbvB-8",
        "outputId": "5fb699ce-0451-44fa-bb90-59891148cbb2"
      },
      "execution_count": 11,
      "outputs": [
        {
          "output_type": "display_data",
          "data": {
            "text/plain": [
              "<Figure size 640x480 with 1 Axes>"
            ],
            "image/png": "[encoded data removed]"
          },
          "metadata": {}
        }
      ]
    },
    {
      "cell_type": "code",
      "source": [
        "# Evaluation\n",
        "model.eval()\n",
        "total_loss = 0\n",
        "with torch.no_grad():\n",
        "    for batch_x, batch_y in test_data_loader:\n",
        "        outputs = model(batch_x)\n",
        "        loss = loss_fn(outputs, batch_y.float().unsqueeze(1))\n",
        "        total_loss += loss.item()\n",
        "\n",
        "print(f\"Test Loss: {total_loss}\")"
      ],
      "metadata": {
        "colab": {
          "base_uri": "https://localhost:8080/"
        },
        "id": "OhBLfTzQvHyW",
        "outputId": "ac496623-ac16-4dfb-cff7-041d16514d94"
      },
      "execution_count": 12,
      "outputs": [
        {
          "output_type": "stream",
          "name": "stdout",
          "text": [
            "Test Loss: 0.29573648143559694\n"
          ]
        }
      ]
    },
    {
      "cell_type": "code",
      "source": [
        "# Compute accuracy on new set of test samples by running predictions\n",
        "N = 100\n",
        "test_x, test_y = prepare_data(N, 64, 128)\n",
        "\n",
        "# Pad sequences in test_x\n",
        "max_len = max(len(seq) for seq in test_x)\n",
        "padded_test_x = [seq + [0] * (max_len - len(seq)) for seq in test_x]\n",
        "\n",
        "# Convert data to PyTorch tensors\n",
        "test_x = torch.tensor(padded_test_x)\n",
        "test_y = torch.tensor(test_y)\n",
        "\n",
        "# Run predictions for each sequence and compute overall accuracy\n",
        "correct_predictions = 0\n",
        "for sequence, y in zip(test_x, test_y):\n",
        "    # Perform inference\n",
        "    with torch.no_grad():\n",
        "        output = model(sequence.unsqueeze(0))\n",
        "    # Convert output to CpG count\n",
        "    predicted_cpg_count = output.item()\n",
        "    # Check if prediction is within a tolerance of 0.5\n",
        "    if abs(predicted_cpg_count - (y.float().unsqueeze(0))) <= 0.3:\n",
        "        correct_predictions += 1\n",
        "\n",
        "# Compute overall accuracy\n",
        "accuracy = correct_predictions / N\n",
        "print(\"Overall Accuracy:\", accuracy)"
      ],
      "metadata": {
        "colab": {
          "base_uri": "https://localhost:8080/"
        },
        "id": "y-4DG2w_vNQe",
        "outputId": "62c4b7f3-0f25-4798-90ba-23e6151e8663"
      },
      "execution_count": 23,
      "outputs": [
        {
          "output_type": "stream",
          "name": "stdout",
          "text": [
            "Overall Accuracy: 0.9\n"
          ]
        }
      ]
    },
    {
      "cell_type": "code",
      "source": [
        "torch.save(model.state_dict(), \"model_var_len.pth\")"
      ],
      "metadata": {
        "id": "e44ok3IHvUn9"
      },
      "execution_count": 15,
      "outputs": []
    },
    {
      "cell_type": "code",
      "source": [
        "import random\n",
        "seq_len = 67\n",
        "# Define the list of characters\n",
        "nucleotides = ['N', 'A', 'C', 'G', 'T']\n",
        "\n",
        "# Generate a random sequence of 128 characters\n",
        "random_sequence = ''.join(random.choice(nucleotides) for _ in range(seq_len))\n",
        "\n",
        "print(random_sequence)\n",
        "print(count_cpgs(random_sequence))"
      ],
      "metadata": {
        "colab": {
          "base_uri": "https://localhost:8080/"
        },
        "id": "lzfZNS54U4Hg",
        "outputId": "7fa2b720-d33b-476e-da0b-26bfac4c7db1"
      },
      "execution_count": 35,
      "outputs": [
        {
          "output_type": "stream",
          "name": "stdout",
          "text": [
            "TNGACTGCGNNACNTCATCAGNACGGNGGCCCNCAAAGTNTNTGATTGTGCTCNNTTTGANNNCNGT\n",
            "2\n"
          ]
        }
      ]
    }
  ],
  "metadata": {
    "colab": {
      "provenance": []
    },
    "kernelspec": {
      "display_name": "Python 3 (ipykernel)",
      "language": "python",
      "name": "python3"
    },
    "language_info": {
      "codemirror_mode": {
        "name": "ipython",
        "version": 3
      },
      "file_extension": ".py",
      "mimetype": "text/x-python",
      "name": "python",
      "nbconvert_exporter": "python",
      "pygments_lexer": "ipython3",
      "version": "3.10.10"
    }
  },
  "nbformat": 4,
  "nbformat_minor": 0
}